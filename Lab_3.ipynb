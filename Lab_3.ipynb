{
  "nbformat": 4,
  "nbformat_minor": 0,
  "metadata": {
    "colab": {
      "provenance": [],
      "generative_ai_disabled": true,
      "authorship_tag": "ABX9TyNUhN0ocuADgYs2G9ht27qn",
      "include_colab_link": true
    },
    "kernelspec": {
      "name": "python3",
      "display_name": "Python 3"
    },
    "language_info": {
      "name": "python"
    }
  },
  "cells": [
    {
      "cell_type": "markdown",
      "metadata": {
        "id": "view-in-github",
        "colab_type": "text"
      },
      "source": [
        "<a href=\"https://colab.research.google.com/github/mkounkel/Auriga/blob/master/Lab_3.ipynb\" target=\"_parent\"><img src=\"https://colab.research.google.com/assets/colab-badge.svg\" alt=\"Open In Colab\"/></a>"
      ]
    },
    {
      "cell_type": "markdown",
      "source": [
        "# Lab 3: Galaxies in Sloan Digital Sky Survey"
      ],
      "metadata": {
        "id": "uPCUgHR7_wmA"
      }
    },
    {
      "cell_type": "code",
      "source": [
        "import numpy as np\n",
        "import matplotlib.pyplot as plt\n",
        "from astropy.table import Table"
      ],
      "metadata": {
        "id": "SwhOFjGcUNei"
      },
      "execution_count": null,
      "outputs": []
    },
    {
      "cell_type": "markdown",
      "source": [
        "One of the most thorough survey of the galaxies to date has been conducted by the Sloan Digital Sky Survey, obtaining both photometric and spectroscopic data towards hundreds of thousands of galaxies across a large volume of the sky. The table below presents a curated subset of these galaxies"
      ],
      "metadata": {
        "id": "eP4tNa9M_11S"
      }
    },
    {
      "cell_type": "code",
      "execution_count": null,
      "metadata": {
        "id": "see1mJFHT_jj"
      },
      "outputs": [],
      "source": [
        "t=Table.read('https://mkounkel.domains.unf.edu/galactic/sdss_galaxies.fits')"
      ]
    },
    {
      "cell_type": "markdown",
      "source": [
        "Below you can see what information this table contains. Among the more relevant values are the velocity dispersion, the fitted values of the Sersic profile (including the power, the amplitude at the center, the width of the profile, the integrated flux produced by it). The table also includes the distance to the galaxies, as well as the measured flux (stored as magnitudes) in 5 different passbands - u, g, r, i, and z.\n",
        "\n",
        "The figure below shows the transmisison curve for these passbands. I.e., all of the light that is coming at the wavelength that pass through the specific filter set is added together and reported in the table. The combination of these passbands allows to study how the emission of an object changes at different wavelength, from ultraviolet to near-infrared.\n",
        "\n",
        "![Transmission curve of 5 different SDSS passbands, u - centered at ~350 nm, g - centered at ~500 nm, r - centerered at 600 nm, i - centered at 750 nm, and z, centered at 1000 nm.](https://www.asahi-spectra.com/opticalfilters/img/fgr_ugrizband.jpg)"
      ],
      "metadata": {
        "id": "oDrCRMjsAaUe"
      }
    },
    {
      "cell_type": "code",
      "source": [
        "t.info()"
      ],
      "metadata": {
        "id": "NN9FsCUhUT0R"
      },
      "execution_count": null,
      "outputs": []
    },
    {
      "cell_type": "markdown",
      "source": [
        "As you have previously seen, Sersic index can be used to roughly separate out galaxies into spiral and elliptical. Create two subsets, let's assume that all galaxies with power of the Sersic profile $n<3$ are spiral, and those with $n>=3$ are elliptical."
      ],
      "metadata": {
        "id": "0cx_dOLdDXpQ"
      }
    },
    {
      "cell_type": "code",
      "source": [
        "#Put your code here"
      ],
      "metadata": {
        "id": "B1gnBwHulfaw"
      },
      "execution_count": null,
      "outputs": []
    },
    {
      "cell_type": "markdown",
      "source": [
        "Velocity dispersion can be used as a proxy of masses. Make a histogram of the velocity dispersion for the spiral and for elliptical galaxies, on the same plot.\n",
        "\n",
        "By default, plt.hist has too few bins, so please set bins=100. We'll explicitly set the range to be from 0 to 400 km/s. Additionally, in order to see overlapping histograms a bit better, we will add some transparency to them by setting alpha=0.5."
      ],
      "metadata": {
        "id": "_KLpCAEzO4_P"
      }
    },
    {
      "cell_type": "code",
      "source": [
        "#Put your code here"
      ],
      "metadata": {
        "id": "Rf-bAylho74S"
      },
      "execution_count": null,
      "outputs": []
    },
    {
      "cell_type": "markdown",
      "source": [
        "#### Question\n",
        "Which galaxies are more massive? Assuming that they have similar sizes (they do not, but it is a reasonable first order estimate), how much more massive is an average elliptical galaxy compared to an average spiral galaxy?\n",
        "#### Answer\n"
      ],
      "metadata": {
        "id": "0spifX73Pzag"
      }
    },
    {
      "cell_type": "markdown",
      "source": [
        "----\n",
        "Let's examine the fluxes in all of the passbands that we have. For convenience, we will put them all on the same plot. The code below shows an example of how to create a figure with subplots.\n",
        "\n",
        "plt.subplots(2,3) creates a grid of subplots with 2 rows and 3 columns, and it creates the variable axs which has 6 elements, each one controlling its own subplot.\n",
        "\n",
        "axs[0,0].hist works exactly as plt.hist has worked prior, only it will make a histogram in the top left subplot. axs[0,1] is top middle suplog, axs[1,0] is the bottom left subplot.\n",
        "\n",
        "In each subplot, make a histogram of the (apparent) magnitudes provided for all 5 passpands, comparing spiral and elliptical galaxies to one another."
      ],
      "metadata": {
        "id": "UmX_wn6bywX4"
      }
    },
    {
      "cell_type": "code",
      "source": [
        "fig, axs = plt.subplots(2, 3,figsize = (16,8))\n",
        "\n",
        "axs[0,0].hist(.....)\n",
        "axs[0,0].set_xlabel('umag')\n",
        "axs[0,0].legend()\n",
        "#Finish all suplots\n",
        "\n",
        "plt.tight_layout()\n",
        "plt.show()"
      ],
      "metadata": {
        "id": "AFe65D6Xqee0"
      },
      "execution_count": null,
      "outputs": []
    },
    {
      "cell_type": "markdown",
      "source": [
        "#### Question\n",
        "- Which type of galaxies appear to be brigher, on average?\n",
        "- Roughly by how many magnitudes?\n",
        "- How consistent is the relative brightness of spirals and ellipticals across different passbands?\n",
        "\n",
        "(Keep in mind that magnitude scale is inverted, the smaller/more negative magnitudes are, the brighter the object)\n",
        "#### Answer"
      ],
      "metadata": {
        "id": "w92frH0GTLqW"
      }
    },
    {
      "cell_type": "markdown",
      "source": [
        "----\n",
        "Apparent magnitudes can only tell us so much about the intrinsic properties of these galaxies. Thankfully, since we do have distances, we can calculate absolute magnitudes, too. Refer back to the previous lab for the expression for the absolute magnitudes. Keep in mind that the distances in the table are provided in the units of Mpc (i.e., $10^6$ pc) so you will need to make some corrections to keep the units consistent.\n",
        "\n",
        "Repeat the above grid but make a histogram of absolute magnitudes for all of the galaxies."
      ],
      "metadata": {
        "id": "BPtwXuQJTh4q"
      }
    },
    {
      "cell_type": "code",
      "source": [
        "#Put your code here"
      ],
      "metadata": {
        "id": "kMApasa9xSPZ"
      },
      "execution_count": null,
      "outputs": []
    },
    {
      "cell_type": "markdown",
      "source": [
        "#### Question\n",
        "- Which type of galaxies appears to be more luminous?\n",
        "- Roughly by how many magnitudes?\n",
        "- How consistent is the relative luminosity of spirals and ellipticals across different passbands?\n",
        "- How do the answers to the above questions differ between apparent and absolute magnitudes? Propose a theory regarding why do you think this is the case.\n",
        "\n",
        "#### Answer"
      ],
      "metadata": {
        "id": "sN1u01OxUSpv"
      }
    },
    {
      "cell_type": "markdown",
      "source": [
        "----\n",
        "Another important parameter is the color of the galaxy. Since we have several passbands, there are varous colors that we can measure. As a reminder, colors are defined as a difference in magnitudes in two different passbands, subtracting magnitude in the passband with longer wavelength from a passband with the shorter wavelength. In this case, the smaller/more negative the color is, the object is bluer.\n",
        "\n",
        "Construct a 4x4 grid. In the top row, make a histogram of u-g, u-r, u-i, and u-z. In the second row, g-r, g-i, and g-z. In the third row, r-i, and r-z. In the last row, z-i. This should produce all of the unique color combinations."
      ],
      "metadata": {
        "id": "6-A595JhVgDp"
      }
    },
    {
      "cell_type": "code",
      "source": [
        "#Put your code here"
      ],
      "metadata": {
        "id": "-yE0Zwky0s6O"
      },
      "execution_count": null,
      "outputs": []
    },
    {
      "cell_type": "markdown",
      "source": [
        "#### Question\n",
        "- Which galaxies are typically redder, and which ones are typically bluer?\n",
        "- How consistent it is across different color?\n",
        "- Which color combination offers the greater separation between spirals and ellipticals?\n",
        "- Why do you think the above color is more effective at separating them than other colors?\n",
        "\n",
        "#### Answer\n"
      ],
      "metadata": {
        "id": "RRrbczBdWsQ8"
      }
    },
    {
      "cell_type": "markdown",
      "source": [
        "----\n",
        "Finally, make a histogram of the distances towards the sprial and elliptical galaxies."
      ],
      "metadata": {
        "id": "dCYf8vkVXSeF"
      }
    },
    {
      "cell_type": "code",
      "source": [
        "#Put your code here"
      ],
      "metadata": {
        "id": "evUx9lIfQe5t"
      },
      "execution_count": null,
      "outputs": []
    },
    {
      "cell_type": "markdown",
      "source": [
        "#### Question\n",
        "Refer both to the above histogram, as well as calculate the lenth of different subsets identified in the questions below\n",
        "\n",
        "- How many spiral galaxies are there in the sample? How many ellipticals?\n",
        "- Is their distribution of distances the same or different?\n",
        "- Create a distance limited subset for both spirals and ellipticals, extending outwards only to 250 Mpc. How many spiral galaxies are there in this subset? How many ellipticals?\n",
        "- How different is the relative ratio of elliptical to spiral galaxies that you have calculated in the distance-limited sample compared to the total sample?\n",
        "- Which galaxies appear to dominate the sample at large distances? Are these the same galaxies that dominate the volume limited sample?\n",
        "- Are the galaxies that dominate larger distances intrinsically more common in the older Universe? If not, why do we see more of them further out?\n",
        "\n",
        "#### Answer"
      ],
      "metadata": {
        "id": "J4GPLxIGXqCk"
      }
    },
    {
      "cell_type": "markdown",
      "source": [
        "----\n",
        "#### Reflection Questions\n",
        "\n",
        "- How long did this lab take you?\n",
        "- What were the areas that were easy?\n",
        "- What were the areas that presented a challenge?\n",
        "\n",
        "#### Reflections"
      ],
      "metadata": {
        "id": "V2WcWpC6aFQe"
      }
    },
    {
      "cell_type": "markdown",
      "source": [
        "# Extra credit\n",
        "Make a histogram of the amplitude of the Sersic profile for both spiral and elliptical galaxies - this is the measure of the inner surface brightness that is independent of distance. However, it is presented in the table in linearly spaced units of flux, not in logarithmic magnitudes. Since the data span many orders of magnitude, it makes visualizing the data somewhat challenging, unles we make logarithmic axes.\n",
        "\n",
        "Making a logarithmic plot is quite simple, just with plt.xscale('log'). If you use this command with plt.hist, however, you will notice that the bins of the histogram end up looking quite wonky - individual bins are still linearly spaced.\n",
        "\n",
        "Use your preferred search engine to find how to make logarithmically spaced bins using plt.hist that would work in conjunction with plt.xscale('log'), without transforming the data themselves. Afterwards make a histogram of the central surface brightnesses of both spiral and elliptical galaxies."
      ],
      "metadata": {
        "id": "jY_xEk8haFw7"
      }
    },
    {
      "cell_type": "code",
      "source": [
        "#Put your code here"
      ],
      "metadata": {
        "id": "JCHbKI9AOi5D"
      },
      "execution_count": null,
      "outputs": []
    }
  ]
}