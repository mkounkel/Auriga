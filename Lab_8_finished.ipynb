{
  "cells": [
    {
      "cell_type": "markdown",
      "metadata": {
        "id": "view-in-github",
        "colab_type": "text"
      },
      "source": [
        "<a href=\"https://colab.research.google.com/github/mkounkel/Auriga/blob/master/Lab_8_finished.ipynb\" target=\"_parent\"><img src=\"https://colab.research.google.com/assets/colab-badge.svg\" alt=\"Open In Colab\"/></a>"
      ]
    },
    {
      "cell_type": "markdown",
      "source": [
        "#Lab 8: Density wave"
      ],
      "metadata": {
        "id": "1MVlrukqqsU4"
      }
    },
    {
      "cell_type": "code",
      "execution_count": null,
      "metadata": {
        "id": "G8Hd83OQPS7D"
      },
      "outputs": [],
      "source": [
        "import numpy as np\n",
        "import matplotlib.pyplot as plt\n",
        "from astropy.table import Table,Column\n",
        "from tqdm import tqdm\n",
        "import pandas as pd\n",
        "import plotly.express as px\n",
        "\n",
        "#defining constants\n",
        "msun=1.9891e30 # kg\n",
        "mjup=1.9e27 #kg\n",
        "au=149597870.691 #m\n",
        "year=31557600 #s\n",
        "G=(4*np.pi**2)*au**3/year**2/msun #N m2 kg-2\n",
        "delta_time=0.001*year*12\n"
      ]
    },
    {
      "cell_type": "markdown",
      "source": [
        "Today we will examine objects opening spiral arms in a disk, using the same framework we previously had in the lab on resonances, but extending it to the entire disk. This would work for moons interacting with ring particles, or it would also work for gas giants interacting with protoplanetary disk. For simplicity, we will keep it to be Jupiter and tiny meteoroids throught the plane of the Solar system."
      ],
      "metadata": {
        "id": "Hx05vYsCrV5Q"
      }
    },
    {
      "cell_type": "code",
      "execution_count": null,
      "metadata": {
        "id": "GrQEzjZZPW7M"
      },
      "outputs": [],
      "source": [
        "def create_blank_table(nrows,nparticles=1):\n",
        "  planet=Table()\n",
        "  planet['time']=Column(name='time',length=nrows,dtype=float,shape=(nparticles,))\n",
        "  planet['x']=Column(name='x',length=nrows,dtype=float,shape=(nparticles,))\n",
        "  planet['y']=Column(name='y',length=nrows,dtype=float,shape=(nparticles,))\n",
        "  planet['vx']=Column(name='vx',length=nrows,dtype=float,shape=(nparticles,))\n",
        "  planet['vy']=Column(name='vy',length=nrows,dtype=float,shape=(nparticles,))\n",
        "  planet['ax']=Column(name='ax',length=nrows,dtype=float,shape=(nparticles,))\n",
        "  planet['ay']=Column(name='ay',length=nrows,dtype=float,shape=(nparticles,))\n",
        "  return planet\n",
        "\n",
        "def defineorbit(period_in_years,theta=0,orbits=100,keep_time=None,nparticles=1):\n",
        "  period=period_in_years*year\n",
        "  sma=period_in_years**(2/3.)*au\n",
        "  v_keplerian=np.sqrt(G*msun/sma)\n",
        "  acceleration_due_to_sun=G*msun/sma**2\n",
        "\n",
        "  if keep_time is not None:\n",
        "    nrows=len(keep_time)\n",
        "  else:\n",
        "    nrows=int(period/delta_time*orbits)\n",
        "  planet=create_blank_table(nrows,nparticles=nparticles)\n",
        "  planet['x'][0],planet['y'][0]=sma*np.cos(theta),sma*np.sin(theta)\n",
        "  planet['vx'][0],planet['vy'][0]=-v_keplerian*np.sin(theta),v_keplerian*np.cos(theta)\n",
        "  planet['ax'][0],planet['ay'][0]=-acceleration_due_to_sun*np.cos(theta),-acceleration_due_to_sun*np.sin(theta)\n",
        "\n",
        "  return planet\n",
        "\n",
        "nparticles=10000\n",
        "\n",
        "planet1=defineorbit(12,orbits=5)\n",
        "planet2=defineorbit(np.random.uniform(low=2,high=18,size=nparticles),theta=np.random.uniform(low=0,high=2*np.pi,size=nparticles),keep_time=planet1,nparticles=nparticles)\n",
        "for i in tqdm(range(len(planet1)-1)):\n",
        "  planet1['time'][i+1]=planet1['time'][i]+delta_time\n",
        "  planet1['x'][i+1]=planet1['x'][i]+planet1['vx'][i]*delta_time+planet1['ax'][i]*delta_time**2\n",
        "  planet1['y'][i+1]=planet1['y'][i]+planet1['vy'][i]*delta_time+planet1['ay'][i]*delta_time**2\n",
        "  planet1['vx'][i+1]=planet1['vx'][i]+planet1['ax'][i]*delta_time\n",
        "  planet1['vy'][i+1]=planet1['vy'][i]+planet1['ay'][i]*delta_time\n",
        "  acceleration_due_to_sun=G*msun/(planet1['x'][i+1]**2+planet1['y'][i+1]**2)\n",
        "  theta=np.arctan2(planet1['y'][i+1],planet1['x'][i+1])\n",
        "  planet1['ax'][i+1],planet1['ay'][i+1]=-acceleration_due_to_sun*np.cos(theta),-acceleration_due_to_sun*np.sin(theta)\n",
        "\n",
        "  planet2['time'][i+1]=planet2['time'][i]+delta_time\n",
        "  planet2['x'][i+1]=planet2['x'][i]+planet2['vx'][i]*delta_time+planet2['ax'][i]*delta_time**2\n",
        "  planet2['y'][i+1]=planet2['y'][i]+planet2['vy'][i]*delta_time+planet2['ay'][i]*delta_time**2\n",
        "  planet2['vx'][i+1]=planet2['vx'][i]+planet2['ax'][i]*delta_time\n",
        "  planet2['vy'][i+1]=planet2['vy'][i]+planet2['ay'][i]*delta_time\n",
        "\n",
        "  acceleration_due_to_sun=G*msun/(planet2['x'][i+1]**2+planet2['y'][i+1]**2)\n",
        "  theta=np.arctan2(planet2['y'][i+1],planet2['x'][i+1])\n",
        "  planet2['ax'][i+1],planet2['ay'][i+1]=-acceleration_due_to_sun*np.cos(theta),-acceleration_due_to_sun*np.sin(theta)\n",
        "\n",
        "  acceleration_due_to_jupiter=G*mjup/((planet2['x'][i+1]-planet1['x'][i+1])**2+(planet2['y'][i+1]-planet1['y'][i+1])**2)\n",
        "  theta=np.arctan2((planet2['y'][i+1]-planet1['y'][i+1]),(planet2['x'][i+1]-planet1['x'][i+1]))\n",
        "  planet2['ax'][i+1],planet2['ay'][i+1]=planet2['ax'][i+1]-acceleration_due_to_jupiter*np.cos(theta),planet2['ay'][i+1]-acceleration_due_to_jupiter*np.sin(theta)\n",
        "\n"
      ]
    },
    {
      "cell_type": "markdown",
      "source": [
        "We will then change the data type for our table from astropy tables to pandas - accessing them works generally the same, but the plotting software we will use is more optimized for pandas."
      ],
      "metadata": {
        "id": "qdG93k2Ps2SV"
      }
    },
    {
      "cell_type": "code",
      "execution_count": null,
      "metadata": {
        "id": "VV5mg7uiPhWk"
      },
      "outputs": [],
      "source": [
        "def makepandas(planet1,planet2,index,rotate=False,calc_orbit=False):\n",
        "  if rotate:\n",
        "    theta=getangle(planet1['x'],planet1['y'])\n",
        "    planet1['x'],planet1['y']=rotation(planet1['x'],planet1['y'],theta)\n",
        "    planet1['vx'],planet1['vy']=rotation(planet1['vx'],planet1['vy'],theta)\n",
        "    planet1['ax'],planet1['ay']=rotation(planet1['ax'],planet1['ay'],theta)\n",
        "    planet2['x'],planet2['y']=rotation(planet2['x'],planet2['y'],theta)\n",
        "    planet2['vx'],planet2['vy']=rotation(planet2['vx'],planet2['vy'],theta)\n",
        "    planet2['ax'],planet2['ay']=rotation(planet2['ax'],planet2['ay'],theta)\n",
        "  df1=pd.DataFrame(data={'x':planet1['x'][index].flatten(),'y':planet1['y'][index].flatten(),'vx':planet1['vx'][index].flatten(),'vy':planet1['vy'][index].flatten(),'time':np.round(planet1['time'][index].flatten()/year,4)})\n",
        "  df1['type']='planet'\n",
        "  df1['size']=10\n",
        "\n",
        "  df2=pd.DataFrame(data={'x':planet2['x'][index].flatten(),'y':planet2['y'][index].flatten(),'vx':planet2['vx'][index].flatten(),'vy':planet2['vy'][index].flatten(),'time':np.round(planet2['time'][index].flatten()/year,4)})\n",
        "  df2['type']='ring'\n",
        "  df2['size']=0.1\n",
        "  if calc_orbit:\n",
        "    df1=update(df1,[0],len(index))\n",
        "    df2=update(df2,np.arange(10000),len(index))\n",
        "\n",
        "  return pd.concat([df2,df1])\n",
        "\n",
        "\n",
        "index=np.arange(0,5000,200)\n",
        "df=makepandas(planet1.copy(),planet2.copy(),index,rotate=False,calc_orbit=False)"
      ]
    },
    {
      "cell_type": "markdown",
      "source": [
        "The code below would make an intearctive plot that would allow you to examine the position of particles at different times."
      ],
      "metadata": {
        "id": "KwZDXNYutEdv"
      }
    },
    {
      "cell_type": "code",
      "source": [
        "fig = px.scatter(df, x=\"x\", y=\"y\", animation_frame=\"time\",size=\"size\")\n",
        "\n",
        "fig[\"layout\"].pop(\"updatemenus\")\n",
        "fig.update_layout(width=700,height=700,autosize=False)\n",
        "fig.layout.yaxis.scaleanchor=\"x\"\n",
        "fig.data[0].update(marker={'line': {'width': 0}})\n",
        "fig.show()\n"
      ],
      "metadata": {
        "id": "eKZtVqkDtJDG"
      },
      "execution_count": null,
      "outputs": []
    },
    {
      "cell_type": "markdown",
      "source": [
        "#### Question\n",
        "- Describe the behavior of the above plot\n",
        "- How does the structure of particles in the disk evolve after 1 orbital period (which, for this planet is 12 years)?\n",
        "- How does the structure evolve after 2 orbital periods?\n",
        "- How does the structure evolve after 3 orbital periods?\n",
        "- What is it like towards the end of the simulation?\n",
        "\n",
        "#### Answer"
      ],
      "metadata": {
        "id": "dV347GfRtIgV"
      }
    },
    {
      "cell_type": "markdown",
      "source": [
        "----\n",
        "Because both the planet is rotating as well as the ring, it may be difficult to keep track of the behavior of the invididual particles. Therefore, let's enter a co-rotating reference frame, i.e., we will keep the position of the planet constant, and observe the motion of particles relative to it.\n",
        "\n",
        "To do that, we will apply the rotation matrix. We will first find the position angle the planet has relative to the Sun, and we will rotate the system to remove this angle from it.\n",
        "\n",
        "As a reminder,\n",
        "\n",
        "$\\begin{bmatrix}\n",
        "x'\\\\\n",
        "y'\n",
        "\\end{bmatrix}=\\begin{bmatrix}\n",
        "\\cos{\\theta} & -\\sin{\\theta}\\\\\n",
        "\\sin{\\theta} & \\cos{\\theta}\n",
        "\\end{bmatrix}\\begin{bmatrix}\n",
        "x\\\\\n",
        "y\n",
        "\\end{bmatrix}$\n",
        "\n"
      ],
      "metadata": {
        "id": "m91V01tDx8RL"
      }
    },
    {
      "cell_type": "code",
      "source": [
        "#apply rotation of x & y arrays given angle theta\n",
        "def rotation(x,y,theta):\n",
        "  x1=x*np.cos(theta)-y*np.sin(theta)\n",
        "  y1=x*np.sin(theta)+y*np.cos(theta)\n",
        "  return x1,y1\n",
        "\n",
        "#calculate a position angle of a planet given its x & t\n",
        "def getangle(x,y):\n",
        "  theta=-np.arctan2(y,x)\n",
        "  return theta"
      ],
      "metadata": {
        "id": "Bl3ygaRzz9CE"
      },
      "execution_count": null,
      "outputs": []
    },
    {
      "cell_type": "markdown",
      "source": [
        "Now that we have defined these functions, we can turn on a flag in the function that creates our Pandas table and then plot it. The planet should now be stationary."
      ],
      "metadata": {
        "id": "FtR99Xhh1wtx"
      }
    },
    {
      "cell_type": "code",
      "source": [
        "index=np.arange(0,5000,200)\n",
        "df=makepandas(planet1.copy(),planet2.copy(),index,rotate=True,calc_orbit=False)\n",
        "fig = px.scatter(df, x=\"x\", y=\"y\", animation_frame=\"time\",size=\"size\")\n",
        "\n",
        "fig[\"layout\"].pop(\"updatemenus\")\n",
        "fig.update_layout(width=700,height=700,autosize=False)\n",
        "fig.layout.yaxis.scaleanchor=\"x\"\n",
        "fig.data[0].update(marker={'line': {'width': 0}})\n",
        "fig.show()\n"
      ],
      "metadata": {
        "id": "MpBsM_MR2YFw"
      },
      "execution_count": null,
      "outputs": []
    },
    {
      "cell_type": "markdown",
      "source": [
        "#### Question\n",
        "- Describe qualitative differences between this plot and the one earlier.\n",
        "- Describe the general motion of the particles\n",
        "- Reevaluate your assessment of the motion of the particles after 1 year, 2 years, 3 years, and towards the end.\n",
        "\n",
        "#### Answer"
      ],
      "metadata": {
        "id": "KJu7TC5g24aU"
      }
    },
    {
      "cell_type": "markdown",
      "metadata": {
        "id": "vzkSZ9hBymfk"
      },
      "source": [
        "----\n",
        "While looking at the position of all of these particles is already informative, we should also consider various orbital properties to improve our assessment of the formation of the density wave.\n",
        "\n",
        "Given that we have a position vector (composed out of x & y arrays) and a velocity vector (composed out of vx & vy arrays), we can calculate instantaneous eccentricity at each step.\n",
        "\n",
        "To do that, we first need to calculate specific angular momentum ($\\vec{h}$, angular momentum per unit mass), and specific orbital energy ($\\epsilon$, total orbital energy per unit mass). Keep in mind that since we are not dealing with circular orbits, we have to do full cross product.\n",
        "\n",
        "$$\\vec{h}=\\vec{r}\\times\\vec{v}$$\n",
        "\n",
        "$$\\epsilon=\\frac{|\\vec{v}|^2}{2}-\\frac{GM}{|\\vec{r}|}$$\n",
        "\n",
        "$$e=\\sqrt{1+\\frac{2ϵ|\\vec{h}|^2}{GM}}$$\n",
        "\n",
        "We can also use the two expressions below to find the semimajor axis $a$, and the position angle of the perihelion $\\theta$.\n",
        "\n",
        "$$|\\vec{v}|^2=GM\\left(\\frac{2}{r}-\\frac{1}{a}\\right)$$\n",
        "\n",
        "$$|\\vec{r}|=\\frac{a(1-e^2)}{1+e\\cos{\\theta}}$$"
      ]
    },
    {
      "cell_type": "markdown",
      "source": [],
      "metadata": {
        "id": "5lnRHTPlxzb-"
      }
    },
    {
      "cell_type": "code",
      "execution_count": null,
      "metadata": {
        "id": "XkLkV4EU1Ha3"
      },
      "outputs": [],
      "source": [
        "def update(df,init_time,n):\n",
        "  df['h']=df['x']*df['vy']-df['y']*df['vx']\n",
        "  df['epsilon']=(df['vx']**2+df['vy']**2)/2-G*msun/np.sqrt(df['x']**2+df['y']**2)\n",
        "  df['e']=np.sqrt(np.abs(1+2*df['epsilon']*(df['h']/G/msun)**2))\n",
        "  df['sma']=1/(2/np.sqrt(df['x']**2+df['y']**2)-(df['vx']**2+df['vy']**2)/G/msun)\n",
        "  df['theta']=(1-df['sma']*(1-df['e']**2)/np.sqrt(df['x']**2+df['y']**2))/df['e']\n",
        "\n",
        "  df['h_ratio']=df['h']/np.tile(df['h'][init_time],n)\n",
        "  df['epsilon_ratio']=df['epsilon']/np.tile(df['epsilon'][init_time],n)\n",
        "  df['sma_ratio']=df['sma']/np.tile(df['sma'][init_time],n)\n",
        "  return df\n",
        "\n"
      ]
    },
    {
      "cell_type": "markdown",
      "source": [
        "Having calculated these factors, we will turn on the flag to make our pandas table."
      ],
      "metadata": {
        "id": "KyuL7GUl8FUs"
      }
    },
    {
      "cell_type": "code",
      "source": [
        "index=np.arange(0,5000,200)\n",
        "df=makepandas(planet1.copy(),planet2.copy(),index,rotate=True,calc_orbit=True)\n"
      ],
      "metadata": {
        "id": "TIRTv2pSBkfd"
      },
      "execution_count": null,
      "outputs": []
    },
    {
      "cell_type": "markdown",
      "source": [
        "We will now plot make a plot color-coded by eccentricity."
      ],
      "metadata": {
        "id": "YUz4mrpyBmzF"
      }
    },
    {
      "cell_type": "code",
      "source": [
        "fig = px.scatter(df, x=\"x\", y=\"y\", animation_frame=\"time\",size=\"size\",color=\"e\",range_color=(0,0.02))\n",
        "fig[\"layout\"].pop(\"updatemenus\")\n",
        "fig.update_layout(width=700,height=700,autosize=False)\n",
        "fig.layout.yaxis.scaleanchor=\"x\"\n",
        "fig.data[0].update(marker={'line': {'width': 0}})\n",
        "fig.show()\n"
      ],
      "metadata": {
        "id": "6jFbunlO79-v"
      },
      "execution_count": null,
      "outputs": []
    },
    {
      "cell_type": "markdown",
      "source": [
        "#### Question\n",
        "Describe how eccentricity evolves throughout the simulation\n",
        "\n",
        "#### Answer"
      ],
      "metadata": {
        "id": "A-X4rP7E-Czg"
      }
    },
    {
      "cell_type": "markdown",
      "source": [
        "---\n",
        "Color code the plot by the ratio of the specific angular momentum to the initial angular momentum of the particle; pass argument color_continuous_scale=px.colors.diverging.RdYlBu to px.scatter"
      ],
      "metadata": {
        "id": "RrTRgCol-IdN"
      }
    },
    {
      "cell_type": "code",
      "execution_count": null,
      "metadata": {
        "id": "G13qcl9PvNSa"
      },
      "outputs": [],
      "source": [
        "fig = px.scatter(df, x=\"x\", y=\"y\", animation_frame=\"time\",size=\"size\",color=\"h_ratio\",range_color=(0.995,1.005),color_continuous_scale=px.colors.diverging.RdYlBu)\n",
        "\n",
        "fig[\"layout\"].pop(\"updatemenus\")\n",
        "fig.update_layout(width=700,height=700,autosize=False)\n",
        "fig.layout.yaxis.scaleanchor=\"x\"\n",
        "fig.data[0].update(marker={'line': {'width': 0}})\n",
        "fig.show()\n",
        "\n"
      ]
    },
    {
      "cell_type": "markdown",
      "source": [
        "#### Question\n",
        "Describe how angular momentum evolves throughout the simulation\n",
        "\n",
        "#### Answer"
      ],
      "metadata": {
        "id": "Flo4tiIX-ZkA"
      }
    },
    {
      "cell_type": "markdown",
      "source": [
        "----\n",
        "Color code the plot by the ratio of the specific orbital energy to the initial orbital energy"
      ],
      "metadata": {
        "id": "Fv1ks3fl-c8e"
      }
    },
    {
      "cell_type": "code",
      "execution_count": null,
      "metadata": {
        "id": "1Epjo1qMucO-"
      },
      "outputs": [],
      "source": [
        "fig = px.scatter(df, x=\"x\", y=\"y\", animation_frame=\"time\",size=\"size\",color=\"epsilon_ratio\",range_color=(0.995,1.005),color_continuous_scale=px.colors.diverging.RdYlBu)\n",
        "\n",
        "fig[\"layout\"].pop(\"updatemenus\")\n",
        "fig.update_layout(width=700,height=700,autosize=False)\n",
        "fig.layout.yaxis.scaleanchor=\"x\"\n",
        "fig.data[0].update(marker={'line': {'width': 0}})\n",
        "fig.show()\n",
        "\n"
      ]
    },
    {
      "cell_type": "markdown",
      "source": [
        "#### Question\n",
        "Describe how orbital energy evolves throughout the simulation\n",
        "\n",
        "#### Answer"
      ],
      "metadata": {
        "id": "rxje0vUl-4hr"
      }
    },
    {
      "cell_type": "markdown",
      "source": [
        "---\n",
        "Color code the plot by the ratio of semi-major axis to the original"
      ],
      "metadata": {
        "id": "CHUuGJhq-97h"
      }
    },
    {
      "cell_type": "code",
      "execution_count": null,
      "metadata": {
        "id": "eKVxt1oD1t1-"
      },
      "outputs": [],
      "source": [
        "fig = px.scatter(df, x=\"x\", y=\"y\", animation_frame=\"time\",size=\"size\",color=\"sma_ratio\",range_color=(0.995,1.005),color_continuous_scale=px.colors.diverging.RdYlBu)\n",
        "\n",
        "fig[\"layout\"].pop(\"updatemenus\")\n",
        "fig.update_layout(width=700,height=700,autosize=False)\n",
        "fig.layout.yaxis.scaleanchor=\"x\"\n",
        "fig.data[0].update(marker={'line': {'width': 0}})\n",
        "fig.show()\n",
        "\n"
      ]
    },
    {
      "cell_type": "markdown",
      "source": [
        "#### Question\n",
        "Describe how the semimajor axis evolves throughout the simulation\n",
        "\n",
        "#### Answer"
      ],
      "metadata": {
        "id": "fSvMNLLp_R89"
      }
    },
    {
      "cell_type": "markdown",
      "source": [
        "----\n",
        "Color code the orbit by the position angle of the perihelion. Use argument color_continuous_scale=px.colors.cyclical.mygbm in px.scatter."
      ],
      "metadata": {
        "id": "Xz_JhVvE_T7_"
      }
    },
    {
      "cell_type": "code",
      "source": [
        "fig = px.scatter(df, x=\"x\", y=\"y\", animation_frame=\"time\",size=\"size\",color=\"theta\",range_color=(-np.pi/2,np.pi/2),\n",
        "                 color_continuous_scale=px.colors.cyclical.mygbm)\n",
        "\n",
        "fig[\"layout\"].pop(\"updatemenus\")\n",
        "fig.update_layout(width=700,height=700,autosize=False)\n",
        "fig.layout.yaxis.scaleanchor=\"x\"\n",
        "fig.data[0].update(marker={'line': {'width': 0}})\n",
        "fig.show()\n",
        "\n"
      ],
      "metadata": {
        "id": "SdItp_l5_XZI"
      },
      "execution_count": null,
      "outputs": []
    },
    {
      "cell_type": "markdown",
      "source": [
        "#### Question\n",
        "Describe how the position angle of particles changes\n",
        "\n",
        "#### Answer"
      ],
      "metadata": {
        "id": "skmSiBX6EkNb"
      }
    },
    {
      "cell_type": "markdown",
      "source": [
        "----\n",
        "#### Question\n",
        "Using all of the plots above interpret how the density wave forms in a disk of particles\n",
        "\n",
        "#### Answer"
      ],
      "metadata": {
        "id": "5SRLS0gpEun5"
      }
    },
    {
      "cell_type": "markdown",
      "source": [
        "----\n",
        "## Note: this lab has big figures which exceed the maximum file size that Github can handle.\n",
        "\n",
        "#### Reflection Questions\n",
        "\n",
        "- How long did this lab take you?\n",
        "- What were the areas that were easy?\n",
        "- What were the areas that presented a challenge?\n",
        "\n",
        "#### Answers"
      ],
      "metadata": {
        "id": "_H4QE68XE59s"
      }
    },
    {
      "cell_type": "markdown",
      "source": [
        "# Extra credit"
      ],
      "metadata": {
        "id": "gf6TV_ROFK32"
      }
    },
    {
      "cell_type": "markdown",
      "source": [
        "We will take a more granular look at what is happening close to the formation of the density wave. We will look only at the particles interior to the planet but close to it, starting with the orbital period 9 years, to orbital period 12 years (keeping planet at 12 years). As opposed to the entire ring, we will keep them positioned along an ark with an angle between $-\\pi/9$ to $\\pi/9$ relative to the planet, itegrating only 0.3 orbit, with delta_time=0.0003\\*year\\*12"
      ],
      "metadata": {
        "id": "gxh_ZO2xFT1U"
      }
    },
    {
      "cell_type": "code",
      "source": [
        "delta_time=0.0003*year*12\n",
        "planet1=defineorbit(12,orbits=0.3)\n",
        "planet2=defineorbit(np.random.uniform(low=9,high=12,size=nparticles),theta=np.random.uniform(low=-np.pi/9,high=np.pi/9,size=nparticles),keep_time=planet1,nparticles=nparticles)\n",
        "for i in tqdm(range(len(planet1)-1)):\n",
        "  planet1['time'][i+1]=planet1['time'][i]+delta_time\n",
        "  planet1['x'][i+1]=planet1['x'][i]+planet1['vx'][i]*delta_time+planet1['ax'][i]*delta_time**2\n",
        "  planet1['y'][i+1]=planet1['y'][i]+planet1['vy'][i]*delta_time+planet1['ay'][i]*delta_time**2\n",
        "  planet1['vx'][i+1]=planet1['vx'][i]+planet1['ax'][i]*delta_time\n",
        "  planet1['vy'][i+1]=planet1['vy'][i]+planet1['ay'][i]*delta_time\n",
        "  acceleration_due_to_sun=G*msun/(planet1['x'][i+1]**2+planet1['y'][i+1]**2)\n",
        "  theta=np.arctan2(planet1['y'][i+1],planet1['x'][i+1])\n",
        "  planet1['ax'][i+1],planet1['ay'][i+1]=-acceleration_due_to_sun*np.cos(theta),-acceleration_due_to_sun*np.sin(theta)\n",
        "\n",
        "  planet2['time'][i+1]=planet2['time'][i]+delta_time\n",
        "  planet2['x'][i+1]=planet2['x'][i]+planet2['vx'][i]*delta_time+planet2['ax'][i]*delta_time**2\n",
        "  planet2['y'][i+1]=planet2['y'][i]+planet2['vy'][i]*delta_time+planet2['ay'][i]*delta_time**2\n",
        "  planet2['vx'][i+1]=planet2['vx'][i]+planet2['ax'][i]*delta_time\n",
        "  planet2['vy'][i+1]=planet2['vy'][i]+planet2['ay'][i]*delta_time\n",
        "\n",
        "  acceleration_due_to_sun=G*msun/(planet2['x'][i+1]**2+planet2['y'][i+1]**2)\n",
        "  theta=np.arctan2(planet2['y'][i+1],planet2['x'][i+1])\n",
        "  planet2['ax'][i+1],planet2['ay'][i+1]=-acceleration_due_to_sun*np.cos(theta),-acceleration_due_to_sun*np.sin(theta)\n",
        "\n",
        "  acceleration_due_to_jupiter=G*mjup/((planet2['x'][i+1]-planet1['x'][i+1])**2+(planet2['y'][i+1]-planet1['y'][i+1])**2)\n",
        "  theta=np.arctan2((planet2['y'][i+1]-planet1['y'][i+1]),(planet2['x'][i+1]-planet1['x'][i+1]))\n",
        "  planet2['ax'][i+1],planet2['ay'][i+1]=planet2['ax'][i+1]-acceleration_due_to_jupiter*np.cos(theta),planet2['ay'][i+1]-acceleration_due_to_jupiter*np.sin(theta)\n",
        "index=np.arange(0,len(planet1),100)\n",
        "df=makepandas(planet1.copy(),planet2.copy(),index,rotate=True,calc_orbit=True)\n"
      ],
      "metadata": {
        "id": "ytzupudCFjQx"
      },
      "execution_count": null,
      "outputs": []
    },
    {
      "cell_type": "code",
      "source": [
        "fig = px.scatter(df, x=\"x\", y=\"y\", animation_frame=\"time\",size=\"size\")\n",
        "\n",
        "fig[\"layout\"].pop(\"updatemenus\")\n",
        "fig.update_layout(width=700,height=700,autosize=False)\n",
        "fig.data[0].update(marker={'line': {'width': 0}})\n",
        "#fig.layout.yaxis.scaleanchor=\"x\"\n",
        "fig.show()\n"
      ],
      "metadata": {
        "id": "G1DRqTO4F42z"
      },
      "execution_count": null,
      "outputs": []
    },
    {
      "cell_type": "markdown",
      "source": [
        "#### Question\n",
        "Describe how the interactions between the particles and the planet result in the formation of the density wave\n",
        "#### Answer"
      ],
      "metadata": {
        "id": "JxBFBXk7JWxl"
      }
    }
  ],
  "metadata": {
    "colab": {
      "provenance": [],
      "authorship_tag": "ABX9TyPR2qY4Dw5XW35MH5Rzsx8X",
      "include_colab_link": true
    },
    "kernelspec": {
      "display_name": "Python 3",
      "name": "python3"
    },
    "language_info": {
      "name": "python"
    }
  },
  "nbformat": 4,
  "nbformat_minor": 0
}